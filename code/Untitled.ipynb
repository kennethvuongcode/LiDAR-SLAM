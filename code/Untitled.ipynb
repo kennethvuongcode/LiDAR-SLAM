{
 "cells": [
  {
   "cell_type": "code",
   "execution_count": null,
   "id": "b26b13a6-a2e8-4201-a5f4-95d763a1056c",
   "metadata": {},
   "outputs": [],
   "source": [
    "%run \"/mnt/c/Users/kvuon/OneDrive/Documents/Personal/UCSD/ECE 276a/ECE276A_PR2/code/test_gtsam.py\"\n"
   ]
  },
  {
   "cell_type": "code",
   "execution_count": null,
   "id": "1fecf0fe-298c-4116-b80a-160fb073717f",
   "metadata": {},
   "outputs": [],
   "source": []
  }
 ],
 "metadata": {
  "kernelspec": {
   "display_name": "Python (gtsam_env)",
   "language": "python",
   "name": "gtsam_env"
  },
  "language_info": {
   "codemirror_mode": {
    "name": "ipython",
    "version": 3
   },
   "file_extension": ".py",
   "mimetype": "text/x-python",
   "name": "python",
   "nbconvert_exporter": "python",
   "pygments_lexer": "ipython3",
   "version": "3.10.16"
  }
 },
 "nbformat": 4,
 "nbformat_minor": 5
}
